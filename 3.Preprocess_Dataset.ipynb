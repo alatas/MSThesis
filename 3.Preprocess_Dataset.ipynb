{
  "cells": [
    {
      "cell_type": "markdown",
      "metadata": {},
      "source": [
        "# Preprocess Dataset"
      ]
    },
    {
      "cell_type": "markdown",
      "metadata": {},
      "source": [
        "## Imports"
      ]
    },
    {
      "cell_type": "code",
      "execution_count": null,
      "metadata": {
        "colab": {
          "base_uri": "https://localhost:8080/"
        },
        "id": "Z-C7OTd7nwnz",
        "outputId": "407c1656-7f57-450c-b608-a2d6b275a891"
      },
      "outputs": [],
      "source": [
        "use_google_drive = False\n",
        "\n",
        "try:\n",
        "  import google.colab\n",
        "  from google.colab import drive\n",
        "  !pip install webdataset\n",
        "  use_google_drive = True\n",
        "except Exception:\n",
        "  pass\n"
      ]
    },
    {
      "cell_type": "code",
      "execution_count": null,
      "metadata": {
        "id": "yqNaCZACzVjt"
      },
      "outputs": [],
      "source": [
        "import matplotlib.pyplot as plt\n",
        "import webdataset as wds\n",
        "from torchvision import transforms\n",
        "import csv\n",
        "from torchvision.transforms.functional import pad\n",
        "import os\n"
      ]
    },
    {
      "cell_type": "markdown",
      "metadata": {},
      "source": [
        "## Definitions and Parameters"
      ]
    },
    {
      "cell_type": "code",
      "execution_count": null,
      "metadata": {},
      "outputs": [],
      "source": [
        "write_fulldataset = True\n",
        "write_splitdatasets = True\n",
        "max_image_count = 0 #set 0 for all\n"
      ]
    },
    {
      "cell_type": "code",
      "execution_count": null,
      "metadata": {
        "id": "2bpgy4bTnktG"
      },
      "outputs": [],
      "source": [
        "if use_google_drive:\n",
        "  metadata_source = \"/content/gdrive/MyDrive/ColabData/amazon/metadata.csv\"\n",
        "  tar_dataset = \"file:///content/gdrive/MyDrive/ColabData/amazon/abo-images-small.tar\"\n",
        "  dataset_folder = \"/content/gdrive/MyDrive/ColabData/amazon/\"\n",
        "\n",
        "  drive.mount(\"/content/gdrive\")\n",
        "else:\n",
        "  metadata_source = \"metadata\\\\metadata.csv\"\n",
        "  tar_dataset = f\"file://{os.getcwd()}/dataset/abo-images-small.tar\".replace('\\\\', '/')\n",
        "  dataset_folder = \"dataset\\\\\"\n"
      ]
    },
    {
      "cell_type": "markdown",
      "metadata": {},
      "source": [
        "## Helper Functions"
      ]
    },
    {
      "cell_type": "code",
      "execution_count": null,
      "metadata": {
        "colab": {
          "base_uri": "https://localhost:8080/"
        },
        "id": "wbPbqIVsNy5D",
        "outputId": "1d997747-0c07-4b99-e1e7-7dc4e30176ac"
      },
      "outputs": [],
      "source": [
        "classes = [\"black\", \"white\", \"gray\", \"red\", \"green\", \"blue\", \"orange\", \"purple\", \"yellow\", \"pink\", \"brown\", \"multicolor\"]\n",
        "\n",
        "def fromcls(cls):\n",
        "  return classes[cls]\n",
        "\n",
        "def tocls(cls):\n",
        "  if cls in classes:\n",
        "    return classes.index(cls)\n",
        "  else:\n",
        "    return None\n",
        "\n",
        "\n",
        "print(tocls(\"green\"))\n",
        "print(fromcls(tocls(\"green\")))\n",
        "print(tocls(\"red\"))\n",
        "print(fromcls(tocls(\"red\")))\n"
      ]
    },
    {
      "cell_type": "code",
      "execution_count": null,
      "metadata": {
        "id": "DhAWYbzZkdHt"
      },
      "outputs": [],
      "source": [
        "def match_metadata(sample: dict):\n",
        "  key = sample[\"__key__\"]\n",
        "  if key in metadata.keys():\n",
        "    sample[\"__item_id__\"] = metadata[key][0]\n",
        "    sample[\"__color__\"] = metadata[key][1]\n",
        "    sample[\"__extracted_color__\"] = metadata[key][2]\n",
        "    sample[\"__valid_color__\"] = metadata[key][3]\n",
        "    sample[\"__product_type__\"] = metadata[key][4]\n",
        "    sample[\"__image_id__\"] = metadata[key][5]\n",
        "    sample[\"__country__\"] = metadata[key][6]\n",
        "    sample[\"sort\"] = int(metadata[key][7])\n",
        "    sample[\"cls\"] = tocls(metadata[key][3])\n",
        "  else:\n",
        "    sample[\"__item_id__\"] = None\n",
        "    sample[\"__color__\"] = None\n",
        "    sample[\"__extracted_color__\"] = None\n",
        "    sample[\"__valid_color__\"] = 'not-valid'\n",
        "    sample[\"__product_type__\"] = None\n",
        "    sample[\"__image_id__\"] = None\n",
        "    sample[\"__country__\"] = None\n",
        "    sample[\"sort\"] = 99\n",
        "    sample[\"cls\"] = None\n",
        "\n",
        "  return sample\n"
      ]
    },
    {
      "cell_type": "code",
      "execution_count": null,
      "metadata": {
        "id": "HtMWp_B4kFaX"
      },
      "outputs": [],
      "source": [
        "class SquarePad(object):\n",
        "  def __init__(self, fill=0, padding_mode='constant'):\n",
        "    self.fill = fill\n",
        "    self.padding_mode = padding_mode\n",
        "\n",
        "  def __call__(self, img):\n",
        "    if self.fill == 'auto':\n",
        "      fill = img.getpixel((0, 0))\n",
        "    else:\n",
        "      fill = self.fill\n",
        "    return pad(img, self.get_padding(img), fill, self.padding_mode)\n",
        "\n",
        "  def __repr__(self):\n",
        "    return self.__class__.__name__ + '(padding={0}, fill={1}, padding_mode={2})'.format(self.fill, self.padding_mode)\n",
        "\n",
        "  def get_padding(self, image):\n",
        "    (w, h) = image.size\n",
        "    if w >= h:\n",
        "      h_padding = w - h\n",
        "      w_padding = 0\n",
        "    else:\n",
        "      h_padding = 0\n",
        "      w_padding = h - w\n",
        "    return (int(w_padding / 2), int(h_padding / 2))\n"
      ]
    },
    {
      "cell_type": "markdown",
      "metadata": {},
      "source": [
        "## Load Metadata and Dataset"
      ]
    },
    {
      "cell_type": "code",
      "execution_count": null,
      "metadata": {
        "id": "0S0OzOrM-5PL"
      },
      "outputs": [],
      "source": [
        "metadata = {}\n",
        "\n",
        "with open(metadata_source, newline='') as metadatacsv:\n",
        "  temp = csv.reader(metadatacsv, delimiter=',')\n",
        "  for line in temp:\n",
        "    metadata[line[5]] = line\n"
      ]
    },
    {
      "cell_type": "code",
      "execution_count": null,
      "metadata": {
        "id": "cKZSXOPH7li3"
      },
      "outputs": [],
      "source": [
        "preproc = transforms.Compose([\n",
        "    SquarePad(padding_mode='constant', fill='auto'),\n",
        "    transforms.Resize(224)\n",
        "])\n",
        "\n",
        "dataset = (wds.WebDataset(tar_dataset)\n",
        "           .map(match_metadata)\n",
        "           .select(predicate=lambda r: r[\"__product_type__\"] == 'SHOES' and r[\"__valid_color__\"] != 'not-valid')\n",
        "           .decode(\"pil\", only=\"jpg\")\n",
        "           .to_tuple(\"__key__\", \"jpg\", \"cls\", \"sort\")\n",
        "           .map_tuple(lambda a: a, preproc,)\n",
        "           )\n"
      ]
    },
    {
      "cell_type": "code",
      "execution_count": null,
      "metadata": {
        "colab": {
          "base_uri": "https://localhost:8080/",
          "height": 304
        },
        "id": "gocJlqKYvjmR",
        "outputId": "17650fc9-1f05-4cbc-d783-5ea7c2678011"
      },
      "outputs": [],
      "source": [
        "for key, jpg, cls, sort in dataset:\n",
        "  break\n",
        "\n",
        "print(classes[cls])\n",
        "plt.imshow(jpg)\n"
      ]
    },
    {
      "cell_type": "markdown",
      "metadata": {},
      "source": [
        "## Prepare Dataset(s)"
      ]
    },
    {
      "cell_type": "code",
      "execution_count": null,
      "metadata": {
        "id": "HcChLuMdTc-u"
      },
      "outputs": [],
      "source": [
        "def write2TARs(dataset, folder):\n",
        "\n",
        "  dataset_id = 3\n",
        "  filefull = os.path.join(folder, f\"shoes-224-full-{dataset_id}.tar\")\n",
        "  filetraining = os.path.join(folder, f\"shoes-224-training-{dataset_id}.tar\")\n",
        "  filevalidation = os.path.join(folder, f\"shoes-224-validation-{dataset_id}.tar\")\n",
        "  filetest = os.path.join(folder, f\"shoes-224-test-{dataset_id}.tar\")\n",
        "\n",
        "  full_size, training_size, validation_size, test_size = 0, 0, 0, 0\n",
        "  with wds.TarWriter(filefull) as full, wds.TarWriter(filetraining) as train, wds.TarWriter(filevalidation) as validation, wds.TarWriter(filetest) as test:\n",
        "    i = 0\n",
        "    for item in dataset:\n",
        "\n",
        "      item = {\n",
        "          \"__key__\": item[0],\n",
        "          \"jpg\": item[1],\n",
        "          \"cls\": item[2],\n",
        "          \"sort\": bin(item[3])\n",
        "      }\n",
        "\n",
        "      if write_fulldataset:\n",
        "        full.write(item)\n",
        "        full_size += 1\n",
        "\n",
        "      if write_splitdatasets:\n",
        "        if i % 10 < 6:\n",
        "          train.write(item)\n",
        "          training_size += 1\n",
        "        elif i % 10 < 8:\n",
        "          validation.write(item)\n",
        "          validation_size += 1\n",
        "        else:\n",
        "          test.write(item)\n",
        "          test_size += 1\n",
        "\n",
        "      i += 1\n",
        "      if max_image_count > 0 and i >= max_image_count:\n",
        "        break\n",
        "\n",
        "  return full_size, training_size, validation_size, test_size\n"
      ]
    },
    {
      "cell_type": "code",
      "execution_count": null,
      "metadata": {
        "id": "lJN5cQKOnktK"
      },
      "outputs": [],
      "source": [
        "results = write2TARs(dataset, dataset_folder)\n",
        "\n",
        "print(f\"\"\"Dataset is written to files:\n",
        "\n",
        "# of Total images: {results[0]}\n",
        "\n",
        "# of Training images: {results[1]}\n",
        "# of Validation images: {results[2]}\n",
        "# of Test images: {results[3]}\"\"\")\n"
      ]
    }
  ],
  "metadata": {
    "anaconda-cloud": {},
    "colab": {
      "collapsed_sections": [],
      "provenance": []
    },
    "gpuClass": "standard",
    "interpreter": {
      "hash": "26de051ba29f2982a8de78e945f0abaf191376122a1563185a90213a26c5da77"
    },
    "kernelspec": {
      "display_name": "Python 3.10.1 64-bit",
      "language": "python",
      "name": "python3"
    },
    "language_info": {
      "codemirror_mode": {
        "name": "ipython",
        "version": 3
      },
      "file_extension": ".py",
      "mimetype": "text/x-python",
      "name": "python",
      "nbconvert_exporter": "python",
      "pygments_lexer": "ipython3",
      "version": "3.10.1 (tags/v3.10.1:2cd268a, Dec  6 2021, 19:10:37) [MSC v.1929 64 bit (AMD64)]"
    }
  },
  "nbformat": 4,
  "nbformat_minor": 0
}
