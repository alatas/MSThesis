{
 "cells": [
  {
   "cell_type": "markdown",
   "metadata": {},
   "source": [
    "# PreProcess Metadata"
   ]
  },
  {
   "cell_type": "markdown",
   "metadata": {},
   "source": [
    "## Imports"
   ]
  },
  {
   "cell_type": "code",
   "execution_count": null,
   "metadata": {},
   "outputs": [],
   "source": [
    "import os\n",
    "import json\n",
    "import csv\n",
    "import re\n",
    "from tqdm import tqdm\n"
   ]
  },
  {
   "cell_type": "markdown",
   "metadata": {},
   "source": [
    "## Definitions"
   ]
  },
  {
   "cell_type": "code",
   "execution_count": null,
   "metadata": {
    "colab": {
     "base_uri": "https://localhost:8080/"
    },
    "id": "Z-C7OTd7nwnz",
    "outputId": "407c1656-7f57-450c-b608-a2d6b275a891"
   },
   "outputs": [],
   "source": [
    "use_google_drive = False\n",
    "\n",
    "try:\n",
    "  import google.colab\n",
    "  from google.colab import drive\n",
    "  use_google_drive = True\n",
    "except Exception:\n",
    "  pass\n"
   ]
  },
  {
   "cell_type": "code",
   "execution_count": null,
   "metadata": {
    "id": "2bpgy4bTnktG"
   },
   "outputs": [],
   "source": [
    "if use_google_drive:\n",
    "  metadata_folder = \"/content/gdrive/MyDrive/ColabData/amazon/\"\n",
    "  metadata_source = \"/content/gdrive/MyDrive/ColabData/amazon/metadata.csv\"\n",
    "  images_source = \"/content/gdrive/MyDrive/ColabData/amazon/images.csv\"\n",
    "\n",
    "  drive.mount(\"/content/gdrive\")\n",
    "else:\n",
    "  metadata_folder = \"metadata\\\\\"\n",
    "  metadata_source = \"metadata\\\\metadata.csv\"\n",
    "  images_source = \"metadata\\\\images.csv\"\n"
   ]
  },
  {
   "cell_type": "code",
   "execution_count": null,
   "metadata": {},
   "outputs": [],
   "source": [
    "images = {}\n",
    "product_numbers = {}\n",
    "product_color_numbers = {}\n",
    "\n",
    "valid_colors = [\"multicolor\", \"black\", \"white\", \"gray\", \"red\", \"green\", \"blue\", \"orange\", \"purple\", \"yellow\", \"pink\", \"brown\"]\n",
    "colors = {\n",
    "    \"multicolor\": [\"multi\"],\n",
    "    \"other\": [\"other\"],\n",
    "    \"black\": [\"black\", \"asphalt\", \"caviar\", \"graphite\", \"Schwarz\"],\n",
    "    \"white\": [\"white\", \"ivory\"],\n",
    "    \"gray\": [\"gray\", \"grey\", \"chrome\", \"silver\", \"steel\", \"charcoal\", \"nickel\", \"aluminium\", \"anthracite\", \"ash\", \"dove\", \"fog\",\n",
    "             \"iron\", \"pewter\", \"platinum\", \"slate\", \"sliver\", \"smoke\", \"stainless\"],\n",
    "    \"red\": [\"red\", \"rose\", \"bordeaux\", \"burgundy\", \"maroon\", \"merlot\", \"autumn\", \"berry\", \"brick\", \"burgandy\", \"cherry\",\n",
    "            \"garnet\", \"mahogany\", \"maron\"],\n",
    "    \"green\": [\"green\", \"mint\", \"olive\", \"alligator\", \"aloe\", \"cadet\", \"emerald\", \"lagoon\", \"lemongrass\", \"sage\", \"seafoam\", \"sod\",\n",
    "              \"teal\", \"turquoise\"],\n",
    "    \"blue\": [\"blue\", \"navy\", \"aqua\", \"denim\", \"azure\", \"blau\", \"bule\", \"sapphire\", \"sky\"],\n",
    "    \"orange\": [\"orange\", \"fire\", \"flame\", \"fawn\", \"pumpkin\", \"rust\"],\n",
    "    \"purple\": [\"purple\", \"amethyst\", \"fuchsia\", \"heather\", \"lavender\", \"lilac\", \"magenta\"],\n",
    "    \"yellow\": [\"yellow\", \"gold\", \"amber\", \"brass\", \"butter\", \"canary\", \"citrine\", \"flax\"],\n",
    "    \"pink\": [\"pink\", \"blush\", \"champagne\", \"linen\"],\n",
    "    \"brown\": [\"brown\", \"beige\", \"biege\" \"braun\", \"bronze\", \"camel\", \"caramel\", \"sand\", \"tan\", \"walnut\", \"acorn\",\n",
    "              \"antique\", \"barnwood\", \"chestnut\", \"chocolate\", \"cognac\", \"ecru\", \"hemp\", \"khaki\", \"oak\", \"saddle\", \"taupe\", \"wenge\"]\n",
    "}\n"
   ]
  },
  {
   "cell_type": "markdown",
   "metadata": {},
   "source": [
    "## Helper Functions"
   ]
  },
  {
   "cell_type": "code",
   "execution_count": null,
   "metadata": {},
   "outputs": [],
   "source": [
    "def get_value(obj, field):\n",
    "  obj['item_id']\n",
    "  if field in obj.keys():\n",
    "    return obj[field]\n",
    "  else:\n",
    "    return None\n",
    "\n",
    "def find_value(values):\n",
    "  if values == None:\n",
    "    return \"\"\n",
    "\n",
    "  for value in values:\n",
    "    if not \"language_tag\" in value.keys():\n",
    "      return value[\"value\"]\n",
    "    elif str(value[\"language_tag\"]).startswith(\"en_\"):\n",
    "      return value[\"value\"]\n",
    "  return \"\"\n",
    "\n",
    "def iterate_value(values, index):\n",
    "  if values == None:\n",
    "    return \"\"\n",
    "\n",
    "  if type(values) is list and len(values) > index:\n",
    "    return values[index]\n",
    "  else:\n",
    "    return \"\"\n",
    "\n",
    "def extract_value(value: str, options={}, notdefined=\"notdefined\"):\n",
    "  if value == None:\n",
    "    return notdefined\n",
    "\n",
    "  found = None\n",
    "\n",
    "  for fkey, fvalue in options.items():\n",
    "    for color in fvalue:\n",
    "      if re.search(color, value, re.IGNORECASE):\n",
    "        if found != None and found != fkey:\n",
    "          return \"multicolor\"\n",
    "        else:\n",
    "          found = fkey\n",
    "\n",
    "  if found == None:\n",
    "    return notdefined\n",
    "  else:\n",
    "    return found\n",
    "\n",
    "def get_next_number(numbers: dict, class1, class2):\n",
    "  key = f\"{class1}{class2}\"\n",
    "  if key in numbers.keys():\n",
    "    numbers[key] += 1\n",
    "  else:\n",
    "    numbers[key] = 1\n",
    "\n",
    "  return numbers[key]\n"
   ]
  },
  {
   "cell_type": "markdown",
   "metadata": {},
   "source": [
    "## Processing Metadata"
   ]
  },
  {
   "cell_type": "code",
   "execution_count": null,
   "metadata": {},
   "outputs": [],
   "source": [
    "with open(images_source, newline='') as imagesfile:\n",
    "  temp = csv.reader(imagesfile, delimiter=',')\n",
    "  for line in temp:\n",
    "    images[line[0]] = \"images/small/\" + line[3][0:-4]\n",
    "\n",
    "\n",
    "with open(metadata_source, 'w', newline='') as csvfile:\n",
    "  csvheader = [\"item_id\", \"color\", \"extracted-color\", \"valid-color\", \"product_type\", \"main_image_id\", \"country\", \"product_image_sort\"]\n",
    "  csvwriter = csv.writer(csvfile, dialect='excel')\n",
    "  csvwriter.writerow(csvheader)\n",
    "\n",
    "  for file in tqdm(os.listdir(metadata_folder), desc=\"Files\"):\n",
    "    if not file.endswith(\".json\"):\n",
    "      continue\n",
    "\n",
    "    with open(os.path.join(metadata_folder, file), 'r') as jsonfile:\n",
    "      for line in tqdm(jsonfile.readlines(), desc=\"Lines\"):\n",
    "        obj = json.loads(line)\n",
    "\n",
    "        color = find_value(get_value(obj, 'color')).strip().replace(\"\\n\", \"\").replace(\"\\t\", \"\")\n",
    "        extracted_color = extract_value(color, options=colors)\n",
    "        valid_color = extracted_color if (extracted_color in valid_colors) else \"not-valid\"\n",
    "        image_id = get_value(obj, 'main_image_id')\n",
    "        product_type = find_value(get_value(obj, 'product_type'))\n",
    "\n",
    "        if image_id == None or image_id == \"\":\n",
    "          continue\n",
    "\n",
    "        product_number = get_next_number(product_numbers, product_type, None)\n",
    "        product_color_number = get_next_number(product_numbers, product_type, valid_color)\n",
    "\n",
    "        csvwriter.writerow(\n",
    "            [get_value(obj, 'item_id'),\n",
    "             color,\n",
    "             extracted_color,\n",
    "             valid_color,\n",
    "             product_type,\n",
    "             images[image_id],\n",
    "             get_value(obj, 'country'),\n",
    "             0])\n",
    "\n",
    "        for i in range(5):\n",
    "          additional_image = iterate_value(get_value(obj, 'other_image_id'), i)\n",
    "\n",
    "          if additional_image != \"\":\n",
    "            product_number = get_next_number(product_numbers, product_type, None)\n",
    "            product_color_number = get_next_number(product_numbers, product_type, valid_color)\n",
    "            csvwriter.writerow(\n",
    "                [get_value(obj, 'item_id'),\n",
    "                 color,\n",
    "                 extracted_color,\n",
    "                 valid_color,\n",
    "                 product_type,\n",
    "                 images[additional_image],\n",
    "                 get_value(obj, 'country'),\n",
    "                 i + 1\n",
    "                 ])\n"
   ]
  }
 ],
 "metadata": {
  "interpreter": {
   "hash": "26de051ba29f2982a8de78e945f0abaf191376122a1563185a90213a26c5da77"
  },
  "kernelspec": {
   "display_name": "Python 3.10.1 64-bit",
   "language": "python",
   "name": "python3"
  },
  "language_info": {
   "codemirror_mode": {
    "name": "ipython",
    "version": 3
   },
   "file_extension": ".py",
   "mimetype": "text/x-python",
   "name": "python",
   "nbconvert_exporter": "python",
   "pygments_lexer": "ipython3",
   "version": "3.10.1 (tags/v3.10.1:2cd268a, Dec  6 2021, 19:10:37) [MSC v.1929 64 bit (AMD64)]"
  },
  "orig_nbformat": 4
 },
 "nbformat": 4,
 "nbformat_minor": 2
}
